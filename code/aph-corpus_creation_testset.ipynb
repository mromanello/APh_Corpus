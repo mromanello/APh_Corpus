{
 "cells": [
  {
   "cell_type": "markdown",
   "metadata": {
    "collapsed": false
   },
   "source": [
    "Steps:\n",
    "1. create a DataFrame with: \n",
    "    1. id\n",
    "    2. language\n",
    "    3. n of tokens\n",
    "    4. n of entities\n",
    "    5. n of relations\n",
    "    6. n of annotations\n",
    "2. select a certain number of negative examples (50%)\n",
    "3. select a certain number of positive examples (50%):\n",
    "    1. with high density of entities/annotations\n",
    "    2. selecting an equal number for each language\n",
    "    3. keeping the total number of tokens ~ <= 5200"
   ]
  },
  {
   "cell_type": "code",
   "execution_count": 181,
   "metadata": {
    "collapsed": false
   },
   "outputs": [],
   "source": [
    "import glob\n",
    "import os\n",
    "import pandas as pd\n",
    "import shutil\n",
    "import random\n",
    "import codecs\n",
    "from random import shuffle\n",
    "import citation_extractor\n",
    "from citation_extractor.pipeline import read_ann_file_new\n",
    "from citation_extractor.Utils.IO import file_to_instances,count_tokens"
   ]
  },
  {
   "cell_type": "code",
   "execution_count": 182,
   "metadata": {
    "collapsed": false
   },
   "outputs": [],
   "source": [
    "basedir = \"/home/romanell/APh_Corpus/devset/\"\n",
    "testdir = \"/home/romanell/APh_Corpus/testset/\"\n",
    "anndir = \"%s%s\"%(basedir,'ann/')\n",
    "iobdir = \"%s%s\"%(basedir,'iob/')\n",
    "txtdir = \"%s%s\"%(basedir,'txt/')"
   ]
  },
  {
   "cell_type": "code",
   "execution_count": 3,
   "metadata": {
    "collapsed": false
   },
   "outputs": [],
   "source": [
    "files = [(anndir,os.path.basename(file).replace('-doc-1.ann','')) for file in glob.glob(\"%s*.ann\"%anndir)]"
   ]
  },
  {
   "cell_type": "code",
   "execution_count": 4,
   "metadata": {
    "collapsed": true
   },
   "outputs": [
    {
     "data": {
      "text/plain": [
       "[('/home/romanell/APh_Corpus/devset/ann/', '75-13923.txt'),\n",
       " ('/home/romanell/APh_Corpus/devset/ann/', '75-07293.txt'),\n",
       " ('/home/romanell/APh_Corpus/devset/ann/', '75-01074.txt'),\n",
       " ('/home/romanell/APh_Corpus/devset/ann/', '75-04941.txt'),\n",
       " ('/home/romanell/APh_Corpus/devset/ann/', '75-07985.txt'),\n",
       " ('/home/romanell/APh_Corpus/devset/ann/', '75-02129.txt'),\n",
       " ('/home/romanell/APh_Corpus/devset/ann/', '75-13338.txt'),\n",
       " ('/home/romanell/APh_Corpus/devset/ann/', '75-07106.txt'),\n",
       " ('/home/romanell/APh_Corpus/devset/ann/', '75-04943.txt'),\n",
       " ('/home/romanell/APh_Corpus/devset/ann/', '75-09102.txt')]"
      ]
     },
     "execution_count": 4,
     "metadata": {},
     "output_type": "execute_result"
    }
   ],
   "source": [
    "files[:10]"
   ]
  },
  {
   "cell_type": "code",
   "execution_count": 145,
   "metadata": {
    "collapsed": false
   },
   "outputs": [],
   "source": [
    "documents = []\n",
    "for dir,file in files:\n",
    "    # detect language\n",
    "    # count tokens\n",
    "    # read in and count entities/relations/annotations\n",
    "    entities,relations,annotations = read_ann_file_new(file,dir)\n",
    "    n_entities,n_relations,n_annotations = len(entities),len(relations),len(annotations)\n",
    "    iob = file_to_instances(\"%s%s\"%(iobdir,file))\n",
    "    n_tokens = count_tokens(iob)\n",
    "    text = \" \".join([token[0] for sentence in iob for token in sentence])\n",
    "    lang = langid.classify(text)\n",
    "    document = {\n",
    "        \"filename\":file\n",
    "        ,\"language\":lang[0]\n",
    "        ,\"language_probability\":lang[1]\n",
    "        ,\"n_tokens\":n_tokens\n",
    "        ,\"n_entities\":n_entities\n",
    "        ,\"n_relations\":n_relations\n",
    "        ,\"n_annotations\":n_annotations\n",
    "        ,\"selected\":False\n",
    "    }\n",
    "    documents.append(document)"
   ]
  },
  {
   "cell_type": "code",
   "execution_count": 146,
   "metadata": {
    "collapsed": false
   },
   "outputs": [
    {
     "data": {
      "text/plain": [
       "6693"
      ]
     },
     "execution_count": 146,
     "metadata": {},
     "output_type": "execute_result"
    }
   ],
   "source": [
    "len(documents)"
   ]
  },
  {
   "cell_type": "code",
   "execution_count": 147,
   "metadata": {
    "collapsed": true
   },
   "outputs": [],
   "source": [
    "df = pd.DataFrame.from_dict(documents)"
   ]
  },
  {
   "cell_type": "code",
   "execution_count": 148,
   "metadata": {
    "collapsed": false
   },
   "outputs": [],
   "source": [
    "negative_documents = list(df[df.n_entities==0]['filename'])"
   ]
  },
  {
   "cell_type": "code",
   "execution_count": 149,
   "metadata": {
    "collapsed": false
   },
   "outputs": [
    {
     "data": {
      "text/plain": [
       "4769"
      ]
     },
     "execution_count": 149,
     "metadata": {},
     "output_type": "execute_result"
    }
   ],
   "source": [
    "len(negative_documents)"
   ]
  },
  {
   "cell_type": "code",
   "execution_count": 151,
   "metadata": {
    "collapsed": false
   },
   "outputs": [
    {
     "name": "stdout",
     "output_type": "stream",
     "text": [
      "selected 64 documents for 5473 tokens in total\n"
     ]
    }
   ],
   "source": [
    "total = 0\n",
    "selected_positive_documents = []\n",
    "for lang,group in df[df.n_entities > 1].sort_values(by=['n_relations','n_entities','n_annotations']\n",
    "                                                    ,ascending=False).groupby(['language']):\n",
    "    #print lang\n",
    "    #print group\n",
    "    total += group[:12][\"n_tokens\"].sum()\n",
    "    selected_positive_documents += list(group[:12][\"filename\"])\n",
    "print \"selected %i documents for %i tokens in total\"%(len(selected_positive_documents),total)"
   ]
  },
  {
   "cell_type": "code",
   "execution_count": 118,
   "metadata": {
    "collapsed": true
   },
   "outputs": [
    {
     "name": "stdout",
     "output_type": "stream",
     "text": [
      "1 75-05688.txt Der Epheserbrief hat eine ausgefeilte symmetrische Struktur. \n",
      " Mittlerer Hauptteil ist 4, 1-16 ; inhaltlich überlappen sich darin Ekklesiologie und Ethik, die beiden Themen der Teile davor bzw. danach. \n",
      " Dem entspricht die formale Disposition, die hier erstmals konsequent stichometrisch analysiert wird. \n",
      " Als Masszeile dient der 15-Silben-Stichos. \n",
      " Die Textabschnitte 1, 1-3, 21 und 4, 17-6, 24 haben genau denselben Zeilenumfang, ebenso die Hauptteile 1, 3-2,10 und 2, 11-3, 21 ; die Teile 4, 17-5, 14 und 5, 15-6, 24 stehen exakt im Verhältnis 2:3. \n",
      " Jeweils sind Bausteine von 21, 13 oder 8 Stichoi verwendet. \n",
      " Die Symmetrie im Briefaufbau erinnert an Körperbau und Tempelbau, kaum zufällig, denn im Epheserbrief ist beides Bild für die Kirche \n",
      "\n",
      "2 75-04599.txt Hinweis auf sprachliche und metrische Parallelen unter anderem bei Leonidas 30 HE (AP 9, 24) und bei Asklepiades 6 HE (AP 5, 203). \n",
      "\n",
      "3 75-04382.txt Anhand von Epist. 6, 21 ; 7, 17 ; 7, 9 und 2, 3\n",
      "4 75-10152.txt Nach Sueton (Cal. 35, 1) liess Caligula den Ptolemaios hinrichten, weil dieser die Aufmerksamkeit der Menge durch das Tragen einer « purpurea abolla » auf sich gezogen hatte. \n",
      " Dieser « purpurne Umhang », der nach den Quellen einer Chlamys, einem Pallium oder einem Paludamentum ähnelte, zeugte von (militärischen) Erfolgen und Ehren seines Trägers. \n",
      " Dadurch, dass sein ohnehin ranghöherer Verwandter beim Zusammentreffen (nach Dio 59, 25, 1 im Jahre 40, nicht 39) einen solchen Umhang trug, musste sich Caligula, dessen eigener Versuch, sich einen militärischen Ruf zu erarbeiten, jüngst fehlgeschlagen war (Sueton Cal. 49, 2), provoziert fühlen. \n",
      "\n",
      "5 75-09118.txt Die Inschrift EM 13330 (ca. 275 v. Chr. ?) enthält ein aus verschiedenen Gründen (=> 72-10521) nicht authentisches Dekret des Themistokles, das die Evakuierung der Stadt anordnet. \n",
      " Dagegen berichten zeitgenössische Quellen von einer Flucht der Athener vor den Persern im Jahr 480. \n",
      " Auffallende Ähnlichkeiten mit Plutarch (Themistokles 10, 4) und Aristeides (Or. 1, 154 und 3, 247) sprechen für eine gemeinsame Quelle aller drei Texte, von der nicht anzunehmen ist, dass sie weit vor 300 v. Chr. existiert hat und deren Wortlaut hier teilweise rekonstruiert wird. \n",
      "\n",
      "6 75-05548.txt Die Identifikation des Sterns über Bethlehem (Mt. 2, 1-12) mit dem Stern der Weissagung des Bileam (Num. 24, 17) birgt für antike christliche Kommentatoren das Risiko, den Anhängern der Astrologie gewichtige Argumente an die Hand zu geben. \n",
      " Daher wird ein möglicher Zusammenhang entweder gänzlich verschwiegen oder aber dem Stern der Weisen sein Status als Fixstern bzw. \n",
      " Planet abgesprochen. \n",
      " Moderne Kommentatoren, die zwischen der Weissagung des Bileam und dem Stern der Weisen keinen Zusammenhang sehen wollen, beschneiden den Autor von Mt. 2, 1-12 seiner messianisch-jüdischen Wurzeln, ohne sich dabei auf die guten Gründe antiker Autoren berufen zu können. \n",
      "\n",
      "7 75-03648.txt Zur Deutung von Ps 45 (44), 2, von Joh 7, 37-39, Ez 36, 26-28 und von Opfervorschriften nach Leviticus durch die Kirchenväter sowie zu den einzelnen theologischen Bedeutungen des Herzens als Bildbegriff (Fähigkeiten und Sinnesorgane des Herzens, das Herz als Räumlichkeit, als Acker, als Bild für geistliche Wachsamkeit, als Bild für das göttliche Leben etc.). \n",
      "\n",
      "8 75-03778.txt Philos Beschreibung der Therapeutae in sein Werk « De vita contemplativa » liefert einen Schlüssel zum Verständnis seiner zahlreichen Äusserungen über die Erschaffung des Menschen in Genesis 1 und 2 ; seine Beschreibung des Lebensstils der Therapeutae spiegelt die Nichtigkeit des menschlichen Körpers, dagegen die höchste Bedeutung eines gottbezogenen Geistes wider. \n",
      " Obwohl es nicht möglich ist zu beweisen, dass Paulus aus Philo schöpfte, als er Jesus « den letzten Adam » nannte, so lassen sich doch auffallende Gemeinsamkeiten zwischen 1 Kor 15, 44-49 und Philos Äusserungen über die « doppelte Erschaffung des Menschen » feststellen. \n",
      "\n",
      "9 75-04931.txt Im Rahmen seiner idealistischen Darstellung des aristokratischen Lebens setzt sich Sidonius von den « humiles » ab. \n",
      " Dabei verwendet er im Brief 4, 7 « rusticus » in der Bedeutung « unkultivierter Mensch ». \n",
      " Die Ablehnung des Landlebens in den Briefen 8, 8 und 1, 6 geschieht im Rahmen einer Würdigung der Politik als der eigentlich dem Aristokraten angemessenen Beschäftigung. \n",
      " Sidonius bewegt sich mit seinen Äusserungen im Rahmen der traditionellen römischen Vorstellungen und Topoi. \n",
      "\n",
      "10 75-04759.txt Su Sall. hist. 2, 23 ; 2, 25-26 ; 3, 48 Maurenbrecher \n",
      "\n",
      "11 75-03524.txt Die Prophezeiungen in Met. 2, 643-648 und 649-654 zeigen im Vergleich mit ihren « Erfüllungen » in Fast. \n",
      " 6, 759-762 und 5, 397-414 neben Gemeinsamkeiten auch Differenzen, die sich entsprechend einem Vorschlag R. Heinzes in « Ovids elegische Erzählung » (Leipzig 1919) aus den unterschiedlichen Gattungen erklären lassen : Der epische Text betont das Wunderbare, der elegische das Pathetische. \n",
      "\n",
      "12 75-12709.txt Eine der von Kresilas signierten Statuenbasen auf der Akropolis trägt eine Widmung des Hermolykos, Sohn des Dieitrephes (DAA 132). \n",
      " Sie wurde mit den Nachrichten von einer von Pfeilen durchbohrten Statue des Dieitrephes bei Pausanias (1, 23, 3-4) und vom « volneratus deficiens » des Kresilas bei Plinius (Nat. 34, 74) in Verbindung gebracht. \n",
      " Dagegen bzw. gegen die Annahme des Pausanias, dass es sich bei Dieitrephes um den bis 411 v. Chr. belegten Strategen handelt, spricht die Datierung des Wirkens von Kresilas zwischen 460 und 420, die vor allem kopienkritisch aus ihm zugeschriebenen Werken gewonnen wurde. \n",
      " Eine kritische Überprüfung, insbesondere der Inschriften, lässt jedoch auch eine Datierung zwischen 430 und dem Ende des 5. \n",
      " Jh. \n",
      " möglich erscheinen. \n",
      "\n",
      "13 75-03463.txt The displacement of Apollo by Cupid in am. 1, 1 forms part of an Ovidian project of sidelining the god in order for the poet to assert his own greatness. \n",
      " Ovid's disavowals of divine inspiration reinforce the picture of his independence. \n",
      " Analysis of the various appearances of Apollo in Ovid's love poetry (ars 1, 25-30 ; 2, 493-510 ; 3, 789-792 ; rem. 75-78 and 703-706), as well as some instances when we might have expected him to appear, but he does not (ars 2, 1-16 and 2, 45 ; rem. 361-396 and 811-814), reveals not a string of unconnected jokes at Apollo's expense, but a rejection of Apollo with both poetic and political ramifications. \n",
      "\n",
      "14 75-03525.txt The 15 books of the « Metamorphoses » are themselves an expression of programmatic meaning. \n",
      " The poetry book of the Augustan age shows a predilection for multiples of 5 (Vergil's « Eclogues » ; Tibullus, Book 1 ; Horace, Satires 1, Odes 2-4, and Epistles 1). \n",
      " This preference is repeated in the Ovidian elegiac collections. \n",
      " The first book of each of the three collections of elegies divided into several books (i.e., « Amores », 15 elegies ; « Tristia », 10 ; and « Ex Ponto », 10) seems to be based upon this principle. \n",
      " The division of the « Metamorphoses » into 15 books signals its distance from the traditional epic, which is characterized by a number corresponding to a multiple of 6. \n",
      "\n",
      "15 75-02583.txt The many types of persuasive act found in the « Iliad » may be clustered under four dominant sources of appeal that transcend situational constraints : honor (illustrated, e.g., at 1, 253-258 ; 9, 283-285 and 13, 95-96), material gain (1, 20-21 and 21, 74-80), power (6, 111-112 and 13, 236-237), and justice (3, 351-354). \n",
      " These four sources reflect the dominant cultural values of archaic Greece of the 8th-7th cents. \n",
      " B.C.\n",
      "16 75-10180.txt Although sources assert that Caesar and Antony were estranged in 46-45 B.C., their quarrel is a fiction invented by Cicero, Phil. 2, 71-74. \n",
      " Plutarch, Ant. 10, 3 and Dio 45, 28, 2-3 drew on Cicero's account. \n",
      " The panic caused in Rome by Antony's arrival in March 45 (Cicero, Att. 12, 19, 2 ; Phil. 2, 77-78) suggests that contemporaries regarded him as someone whom Caesar might well call upon to initiate a bloody purge. \n",
      " Antony also canvassed voters for the consulship of 44 (Phil. 2, 76), an office he could hardly have hoped to win without Caesar's blessing. \n",
      "\n",
      "17 75-03501.txt Ovid claims in the « Fasti » that he will honor the imperial family by celebrating the « arae Caesaris » (fast. 1, 13), by which we should understand all types of « sacred area » set up or revitalized by the Julian family. \n",
      " There is, in fact, only one monument whose appearance is described, namely the Temple of Mars Ultor in the Forum Augustum (5, 545-598). \n",
      " Analysis of Ovid's treatment of the Temple of Castor and Pollux (1, 705-708) ; Livia's shrine (6, 637-648) ; the Temples of Aesculapius and Jupiter (1, 289-294) ; the Temple of Juno Sospita (2, 55-66) ; and the Ara Pacis Augustae (1, 709-722) suggests that one reason for Ovid's distinctive handling of imperial monuments, particularly the absence of the visual, might lie in his exile. \n",
      "\n",
      "18 75-00317.txt Subversive elements present in met. 11 invalidate the interpretation of the book as a straightforward account of a religious experience. \n",
      " Isis is linked with the staged Judgement of Paris, with actors playing the bribing goddesses, at the end of Book 10 (11, 3-5 : cf. 10, 30-31). \n",
      " The comic picture of a perspiring ass (11, 7) ; Lucius' inability to follow instructions (11, 12-13) ; and the high price of Lucius' initations into the Isis cult (11, 21-24) are some of these elements. \n",
      "\n",
      "19 75-10217.txt The historiographical tradition preserved in Nicolaus of Damascus, FGrHist. \n",
      " 90 F 130 ; Velleius 2, 59 ; Appian 3, 28 ; Dio 45, 5 ; and elsewhere knows nothing of Octavian's residence in Puteoli during April and May, 44 B.C. Only Cicero's correspondence preserves this information (Att. 14, 5, 3 ; 14, 6, 1 ; 14, 10, 3). \n",
      " The reason for its absence in the historians is not difficult to discern : Any historian of the earliest days of Octavian's career must have depended on his « res gestae ». \n",
      " The retreat to Campania fitted awkwardly with the autobiography's portrait of a courageous but inexperienced heir. \n",
      " The evidence suggests an impetuous youth who trusted to rash decision and so encountered embarrassment. \n",
      "\n",
      "20 75-03482.txt Close reading of Ovid's ecphrastic depiction of two Centaur lovers at met. 12, 393-428 reveals that Ovid uses allusions to Lucretius 2, 700-702 ; 4, 739-744 ; and 5, 878-898, as well as to his own work (ars 3, 133-198) to explore both hybridity itself and the possible combinations of a number of conceptual opposites : « natura » and « cultus », human and animal, male and female, love and war, and the contrasting values of lyric-elegiac and epic poetry. \n",
      " The issues explored within this digression reflect a concern with similar issues in the wider context of Book 12 and of the « Metamorphoses » as a whole. \n",
      "\n",
      "21 75-05857.txt Includes discussion of Acts 15, 29 and 21, 25 ; Revelation 2, 14 and 2, 20 ; Sib. Or. 2, 96 ; and Didache 6, 3. \n",
      "\n",
      "22 75-02846.txt The dominant conception in classical rhetoric of how innate ability relates to education (Quintilian 2, 19, 2 ; Plato, R. Books 2-3 and 6-7) should be questioned. \n",
      " Isocrates' ambivalent affirmation of and resistance to a highly determinant version of aptitude (4, 150-151 ; 13, 5-6 ; 15, 291-305) may represent a productive strategy in order to reinvigorate contemporary inquiries in language, human nature, and ethics. \n",
      "\n",
      "23 75-06630.txt Analysis of descriptions of remote places in archaic Greek epic reveals that Homeric cosmic geography consists of two complementary models, one in which the sun rises and sets at a single locus - the « axis mundi » - as in Hesiod, Th. 746-751, and another in which sunrise and sunset take place on the eastern and western horizons respectively. \n",
      " Conflation of these models in the « Odyssey » results in the gemination of peoples and places associated in myth with the sun (e.g. the Aithiopes, Od. 1, 22-24 ; Kalypso and Kirke, 1, 52 and 12, 1-4 ; the Laistrygones and Kimmerioi, 10, 82-86 and 11, 14-19). \n",
      " This not only explains some patterns in Homeric geography and their thematic importance to Odysseus' travels, but also resolves interpretive difficulties with descriptions of the edges of the earth in epic. \n",
      "\n",
      "24 75-05238.txt The speeches in Tacitus' « Dialogus » (5, 3-10, 8 ; 11, 1-13, 6 ; 16, 4-23, 6 ; 25, 1-26, 8 ; 28, 1-35, 5 ; 36, 1-41, 5), despite being at variance with one another in other respects, develop with increasing sophistication a single account of literary history with a complex interrelation of aesthetic and political factors. \n",
      " When one seeks to slot the « Dialogus » itself into that account, however, one finds that the form in which the work is written appears to challenge the very analysis that it has developed. \n",
      "\n",
      "25 75-02682.txt Se discuten tres puntualizaciones léxicas de G. Guidorizzi en su reciente traducción y comentario de la obra de Higino (=> 71-02699) relativas a : uso de « cor » en lugar de « iecur » (fab. 31, 5), traducción de « filius » por « nieto » (fab. 121, 3), y presencia del femenino insólito « Tartara » (fab. 152, 1) \n",
      "\n",
      "26 75-02821.txt En el marco de ciertos aspectos biográficos relativos a Isidoro (por ejemplo, su condición de canónigo catedralicio y de obispo) que aportan luz sobre el grado de conocimiento que pudo éste tener de la vida ascética en general y de la cenobítica en particular, y a partir de las consideraciones isidorianas acerca del exceso de alimentación (Syn. 2, 14-15), la gula, la embriaguez, el ayuno (Sent. 2, 42-46) y la vida contemplativa (Sent. 3, 15-22), se discuten las prescripciones alimentarias propuestas en la « Regula monachorum ». \n",
      " Para 1 => 73-03491 \n",
      "\n",
      "27 75-03078.txt Se abordan los problemas críticos de una serie de pasajes de Lucrecio sobre los que se ofrecen propuestas nuevas : 1, 433-435, 1075-1076 ; 2, 277-283, 502-503, 714-715 ; 4, 632, 1165 \n",
      "\n",
      "28 75-01219.txt À propos de Catulle 98, 3-4 ; 66, 94 ; 17, 18-19 \n",
      "\n",
      "29 75-03565.txt La imagen del timonel, que representa la pérdida del control frente a la violencia de la naturaleza, aparece en los tres relatos de tempestad de los « Tristia » (1, 2, 13-50 ; 1, 4, 5-22 ; y 1, 11, 13-22), integrando ciertos aspectos clave de este texto relacionados con las nociones de « olvido » y « memoria » \n",
      "\n",
      "30 75-00046.txt Estudio crítico de algunos de los problemas textuales que plantea el estásimo primero del « Prometeo encadenado » de Esquilo, especialmente en los v. 399-402 = 408-411 y 425-435. \n",
      "\n",
      "31 75-00060.txt Las noticias de Heraclides Póntico (fr. 170 Wehrli), Ateneo (1, 39, 1-6) y Tzetzes (In Hes. Op. 414) relativas al supuesto juicio al que fue sometido Esquilo por revelar doctrinas de los misterios de Eleusis discrepan notablemente en los puntos fundamentales y no proceden de una fuente histórica. \n",
      " El testimonio de Aristóteles (EN 1111a, 6-11), en cambio, sí preserva fiablemente el recuerdo del juicio. \n",
      " Esquilo divulgó la relación materno-filial de Deméter y Ártemis en varios dramas siendo inconsciente - él nunca fue iniciado en estos misterios - de que revelaba parte de la doctrina eleusina. \n",
      " En su defensa, alegó que había adquirido el conocimiento de esta relación de una fuente no mistérica, a saber : ciertos tratados de inspiración órfico-pitagórica acerca de los misterios de Deméter \n",
      "\n",
      "32 75-05188.txt Apoyándose en un pasaje similar de Tácito (Hist. 2, 78), el humanista interpreta « Carmeli dei » del pasaje de la Vida de Vespasiano 5, 6 como un sintagma que se refiere al dios Carmelo y no al Dios « verdadero » que se venera en el monte Carmelo \n",
      "\n",
      "33 75-06003.txt Se proponen nuevas interpretaciones y lecturas de treinta y dos pasajes de los Idilios 13, 14, 15, 16, 18, 22, 26 y 28, los cuales presentan problemas textuales no resueltos satisfactoriamente en la edición de Gow (=> APh 21, p. 131) \n",
      "\n",
      "34 75-06031.txt Se sugiere que Lucrecio utilizó como fuente del libro 4 de su poema extractos griegos, resúmenes y sumarios críticos como el « De sensibus » de Teofrasto, obra que Sila trajo a Roma en el 87 a.C., tras apoderarse de la biblioteca que Neleo había heredado de Teofrasto \n",
      "\n",
      "35 75-06187.txt En varios pasajes de la « Eneida », Sergesto, mítico antepasado de los Sergios, tiene un protagonismo singular. \n",
      " Descartándose la clásica identificación entre Sergesto y Catilina, se estudia el trasfondo histórico de este personaje a partir del análisis del papel que la « gens Sergia » representó en la escena política romana hasta la composición de la « Eneida ». \n",
      " El estudio se completa con la valoración de la información que al respecto puede proporcionar el Arco de los Sergios en Pula (Croacia). \n",
      " En apéndice se ofrecen el texto latino y la traducción al español del pasaje Eneida 5, 115-285. \n",
      "\n",
      "36 75-00043.txt Se estudia en la párodo del « Agamenón » de Esquilo el tema de lo real como contradicción. \n",
      " La realidad en la tragedia se revela, en distintos momentos, como contradictoria. \n",
      " Se subraya en este mismo sentido el uso de oposiciones binarias y de un discurso ambiguo. \n",
      " Se analiza, por otro lado, un problema textual en los v. 214-217. \n",
      "\n",
      "37 75-02329.txt À propos d'une expression hiéronymienne forgée sur le couple « gemitus »-« lacrimae » (in Is. 4, 10, 12-14 et 5, 21, 2 ; adu. Rufin. 3, 41 ; epist. 123, 16 ; in Ezech. 7, 24, 15 sq et in Hier. 3, 13, 16-17). \n",
      " Elle exprime la situation du vaincu ou de la victime de l'oppression qui s'insurge contre les abus de pouvoir. \n",
      " Jérôme l'emprunte à Cicéron (Phil. 2, 64 ; 2, 85-86) et à Sénèque (suas. 6, 4 et contr. 7, 2, 5) \n",
      "\n",
      "38 75-03702.txt Analyse des sept fragments cités chez Pausanias (1, 14, 3 ; 1, 22, 7 ; 1, 25, 8 ; 4, 1, 5 ; 10, 5, 6-8 ; 10, 7, 2 ; 10, 9, 11). \n",
      " Musée y apparaît à la fois comme un poète oraculaire et comme un poète de Déméter, de Triptolème et des Mystères, chanté par les prêtres officiants de Phlya en Attique. \n",
      " Ces citations ne sont pas un gage d'authenticité ni un témoignage sur l'existence de Musée. \n",
      " On assiste plutôt à l'élaboration d'une figure de locuteur \n",
      "\n",
      "39 75-02360.txt Un passage d'Hilaire de Poitiers (C. Const. 8, 2-10) a inspiré plusieurs écrivains ecclésiastiques, tels que Sozomène (HE 7, 24, 8), Paulin de Nole (Carm. 23, 61-81), Augustin (Ciu. 9, 9, 11-31), Jérôme (Vir. ill. 1) ou Sulpice Sévère (Dial. 3, 6, 5) \n",
      "\n",
      "40 75-02660.txt Rapport entre Horace et Pindare, appellé « le cygne de Dircé » (Od. 4, 2, 25), représentant de la grande poésie. \n",
      " Horace exprime son admiration et s'essaie au dithyrambe (Od. 2, 19 et 3, 25), avant d'y renoncer pour s'en tenir à la poésie bucolique, semblable à l'abeille du Matinus (Od. 4, 2, 27), dans le goût alexandrin des poètes de l'Anthologie \n",
      "\n",
      "41 75-10401.txt Analyse l'écart qui sépare les récits de Tite-Live (1, 39-48 ; 1, 49-60) et de Denys (AR 4, 1-40 ; 4, 41-85). \n",
      " Chez Tite-Live, les deux derniers règnes sont confondus dans une même vision tragique qui ménage une grande place au divin dans la succession des événements historiques. \n",
      " Chez Denys, au contraire, ils sont délibérément individualisés au plan politique et conçus comme antithèse l'un de l'autre. \n",
      " Examen précis de trois points : le problème de la légitimité de Servius Tullius, l'assassinat de ce roi par Tarquin, et enfin la figure de Tarquin le Superbe \n",
      "\n",
      "42 75-10815.txt Quatre constitutions de la fin du 4e et du début du 5e s. (C. Th. 15, 1, 33 ; 10, 3, 5 ; 15, 1, 41 et 43) précisent les prérogatives municipales en matière immobilière, en liaison avec l'administration centrale. \n",
      " Tandis que la cité a perdu toute autonomie de gestion des revenus publics, elle contrôle l'affectation des « loca publica », dont elle peut restreindre la concession. \n",
      " L'administration provinciale et la préfecture du Prétoire, tout en contrôlant les cités, les protègent contre les menées des « potentiores » ou des étrangers. \n",
      " Annexe, p. 113-114 : Proposition de traduction des textes analysés \n",
      "\n",
      "43 75-11943.txt Le mythe fondateur de Lycaon, tel que présenté par Ovide (M. 1, 163-244), évoque un rite arcadien de passage de l'enfance à l'âge adulte, comme le confirme l'utilisation du motif de l'homme-loup chez plusieurs auteurs, notamment Platon (Rsp. 8, 565d-566a) et Pline l'Ancien (NH 8, 81) \n",
      "\n",
      "44 75-02877.txt Dans la suite des études proposées par J. Brunel (=> APh 11, p. 160 ; 38, p. 635), nouvel examen du récit de Trogue Pompée transmis par Justin (43, 4, 3-12). \n",
      " Le Ségobrige Comanus médite de s'emparer de Marseille en y introduisant des guerriers, dissimulés dans des chariots, le jour des « Floralia » ; son stratagème est trahi par une parente du roi ligure, qui le révèle à son amant grec ; les Marseillais retournent le piège contre son organisateur et massacrent les intrus ainsi que le roi lui-même. \n",
      " Sous une étiologie apparente des anthestéries massaliotes, se conjuguent ici les mythèmes indo-européen du cheval de Troie et gréco-oriental de le jeune femme traîtresse aux siens et qui sauve d'un piège mortel les Grecs expansionnistes. \n",
      " L'épisode ultérieur du siège de Marseille par Catumandus (Justin 43, 5) présente le même type de traitement, ou encore le récit de l'échec de la prise de Dara par Chosroès Ier, rapporté par Procope (Guerres 2, 28, 31-37) \n",
      "\n",
      "45 75-06384.txt Le portrait par Xénophon de Socrate qui donne des leçons de séduction à une courtisane et qui lui résiste ensuite (Mem. 3, 11), ne peut être réellement compris que si l'on y décèle une apologie de la force morale du philosophe, ainsi qu'une intention politique indirecte. \n",
      " En effet, derrière Socrate se profile la figure de Périclès, victime de la courtisane Aspasie. \n",
      " En traçant de celle-ci une image positive et très éloignée des critiques traditionnelles (Mem. 2, 6, 36 ; Oec. 3, 14), Xénophon rehausse du même coup celle de Périclès \n",
      "\n",
      "46 75-10257.txt Lecture critique du témoignage d'Ammien Marcellin sur le conflit entre les citoyens de Lepcis Magna et le « comes rei militaris per Africam » Romanus (RG 28, 6, 1-29 ; 27, 9, 1-4 ; 30, 2, 9-12). \n",
      " L'épisode révèle en fait les oppositions factionnelles qui régnaient à la cour. \n",
      " Ammien ne saurait dissimuler, d'autre part, que Romanus était innocent de l'usurpation de Firmus \n",
      "\n",
      "47 75-00327.txt Dans Apol. 4, 1-3, Apulée détourne à son avantage l'accusation d'être un « philosophus disertissimus » coupable de « facundiae crimina ». \n",
      " Malgré la connotation péjorative des adjectifs « disertus » et « facundus » dans la tradition cicéronienne de l'analyse du discours public, la « facundia » d'Apulée n'est pas un art léger et mensonger, car elle possède un fondement moral. \n",
      " Une métaphysique de la « facundia » se fait jour, lorsqu'Apulée évoque la beauté originelle de la parole humaine et son essence sacrée. \n",
      " Le seul Romain auquel il réserve le privilège d'incarner l'idéal du « uir bonus dicendi peritus » est le proconsul d'Afrique Avitus (Apol. 94, 6 ; 95, 1-6), dont la « facundia » emporte l'admiration. \n",
      "\n",
      "48 75-02424.txt Examen de trois passages témoignant de la perception du vêtement comme mode de différenciation (Alex. Sev. 42, 1 ; Tac. 16, 1-2 ; Alex. Sev. 27, 1) \n",
      "\n",
      "49 75-03903.txt Testo, trad. italiana e commento dei passi platonici in cui Socrate parla del « daimonion » (Ap. 31c-d, 40a-b-c e 41d ; Euthyph. 3b ; Alc.1 103a ; Resp. 496c ; Phaedr. 242b ; Euthyd. 272e ; Theaet. 151a ; Theag. 128d, 129b-c, 129e, 131a) \n",
      "\n",
      "50 75-04902.txt L'esame di alcune glosse come testo autonomo (Aen. 2, 298-303. 3, 19-21. 3, 172-178. 3, 278-280. 3, 568-569. 4, 571-572. 12, 116-120) mostra la tendenza di Servio a conferire valore cerimoniale e funzione esemplare a particolari e vicende del testo virgiliano \n",
      "\n",
      "51 75-05856.txt I riferimenti alla santità nel Nuovo Testamento, culminanti nella eucologia di Cristo « sia santificato il tuo nome » (Matteo 6, 9 ; Luca 11, 2), si inseriscono nella tradizione veterotestamentaria che fa capo alla santificazione di Israele promessa in « Ezechiele » (36, 22-32 ; 37, 28) \n",
      "\n",
      "52 75-02344.txt La traduzione latina non tenta neppure di rendere la paronomasia dell'originale, diversamente da quel che accade per le versioni greche e latine di altri passi (Gn 2, 23 ; 11, 19 ; Ger 1, 11-12 e Gdc 10, 4) \n",
      "\n",
      "53 75-04756.txt Quattro citazioni indirette delle « Historiae » di Sallustio : frr. \n",
      " 2, 70 ; 1, 120 ; 2, 1-4 e 4, 23-39 Maur.\n",
      "54 75-03842.txt Testo, traduzione e commento di Philostr. Her. 53, 10 e 55, 3 nonché di Hld. 3, 2 e 8, 11 \n",
      "\n",
      "55 75-03713.txt Sulle immagini della bilancia e della barba come contrassegno di sapienza in Persio 1, 5-7 ; 3, 79-83 ; 4, 10-11 alla luce dei suoi antecendenti e modelli e con uno sguardo sulla sua fortuna. \n",
      " Inoltre sulla metafora del naso quale strumento di espressione del giudizio (Persio 1, 118) come metafora derivata da quella della bilancia \n",
      "\n",
      "56 75-04673.txt Si congettura « candentior » in luogo di « patentior » in Prop. 1, 16, 29 e si propone di leggere a 1, 16, 38 « quae solet ingrato dicere iura foro », facendo così del protagonista « exclusus amator » un giudice e scartandone perciò l'identificazione con Properzio stesso. \n",
      " A 4, 3, 47-48 si riconosce un'allusione al Ponto Eusino, intendendo « pater » come corruzione di « fretus » e « africus » di « adstricto ». \n",
      " A 4, 3, 51 si risolve la crux « te » leggendovi « mea » \n",
      "\n",
      "57 75-01252.txt Note sulla polemica anticristiana di Celso, riportata e confutata da Origene (Cels. 2, 36), riguardo al passo evangelico (Ioh. 19,34) in cui dal costato ferito di Cristo esce sangue misto a acqua ; secondo Celso il Vangelo di Giovanni riutilizza abilmente, per una mitizzazione della divinità di Gesù, un passo omerico (Il. 5, 335-342) già sfruttato in un noto aneddoto della vita di Alessandro \n",
      "\n",
      "58 75-01472.txt Riguardo alla giacenza ereditaria si osserva nel « Corpus » giustinianeo la coesistenza di una grande varietà dottrinale, dovuta alla difficoltà dei giuristi e dei compilatori nella definizione di tale istituto. \n",
      " La parallela lettura di un frammento delle « Epitomi » di Ermogeniano (D. 41, 1, 61, Hermog. 6 iur. ep.) e di un rescritto dioclezianeo del 293 (CI. 4, 34, 9) evidenzia un'idea sincrona di « hereditas nondum adquisita » e suggerisce forse di ipotizzare il lavoro di un medesimo giurista, intento prima a enucleare il principio di diritto vigente, poi a elaborare una soluzione dogmatica al problema della natura giuridica della « hereditas ante aditionem » : una « hereditas » quasi « domina » \n",
      "\n",
      "59 75-02533.txt In Od. 12, 170-200 le Sirene tentano Odisseo chiedendogli di tornare a essere l'eroe dell'« Iliade » e di dimenticare Itaca, la moglie, i figli ; tale interpretazione (la tentazione di perdersi nel passato rinunciando al futuro) era già stata adombrata da Th. Adorno, in una lettura che viene qui presa in esame. \n",
      " La narrazione di Demodoco (Od. 8, 487-534) della presa di Ilio, come quella della contesa tra Achille e Odisseo (Od. 8, 72-95), provoca il pianto dell'Itacese perché egli vi trova uno specchio del proprio passato e ne percepisce il ribaltamento nella sua situazione presente \n",
      "\n",
      "60 75-01731.txt Considerazioni critico-esegetiche su due frammenti degli « Annales » di Ennio (266 V2 = 225 Sk. e 268 V2 = 248 Sk.) che richiamano il testo di Esiodo, Th. 226-229 ; Op. 193-196 e 290-292 \n",
      "\n",
      "61 75-03077.txt « hi » in Lucretius 5, 1105, Naugerius' correction for « in », cannot be correct because it is never used by Lucretius, is inappropriately emphatic, and is very far separated from « qui » in 1107. \n",
      " Read « hunc » instead of « hi » for the text : « hunc uictum uitamque priorem ». \n",
      " In 1106, « nouis monstrabant rebus et igni » is problematic ; A. Kannengiesser's suggestion (Göttingen 1878) : « nouis ... \n",
      " rebu' repertis » is best. \n",
      "\n",
      "62 75-07575b.txt Note a Charit. \n",
      " 5, 5, 4 ; 6, 4, 10 ; 8, 2, 4 ; a X. Eph. 1, 9, 5 ; 2, 7, 4 ; 3, 2, 7 ; 4, 1, 4 ; 4, 1, 5 ; 5, 2, 5 ; e a Longus 1, 23, 3 ; 2, 23, 4 ; 3, 16, 1\n",
      "63 75-04838.txt 21 notes on « Hercules Oetaeus » ; 4 notes on « Agamemnon » ; 4 notes on « Thyestes ». \n",
      "\n",
      "64 75-03504.txt In den « Tristia » und « Epistulae ex Ponto ». \n",
      "\n"
     ]
    }
   ],
   "source": [
    "for i,file in enumerate(selected_positive_documents):\n",
    "    print i+1,file,codecs.open(\"%s%s\"%(txtdir,file),'r','utf-8').read()"
   ]
  },
  {
   "cell_type": "code",
   "execution_count": 152,
   "metadata": {
    "collapsed": false
   },
   "outputs": [],
   "source": [
    "selected_negative_documents = list(df[df.n_entities==0][:95][\"filename\"])"
   ]
  },
  {
   "cell_type": "code",
   "execution_count": 153,
   "metadata": {
    "collapsed": false
   },
   "outputs": [
    {
     "data": {
      "text/plain": [
       "95"
      ]
     },
     "execution_count": 153,
     "metadata": {},
     "output_type": "execute_result"
    }
   ],
   "source": [
    "len(selected_negative_documents)"
   ]
  },
  {
   "cell_type": "code",
   "execution_count": 161,
   "metadata": {
    "collapsed": false
   },
   "outputs": [],
   "source": [
    "for filename in selected_negative_documents+selected_positive_documents:\n",
    "    df.loc[df.filename==filename,'selected'] = True"
   ]
  },
  {
   "cell_type": "code",
   "execution_count": 168,
   "metadata": {
    "collapsed": true
   },
   "outputs": [],
   "source": [
    "df.to_csv(\"/home/romanell/myfiles/aph_testset_selection.csv\")"
   ]
  },
  {
   "cell_type": "code",
   "execution_count": 171,
   "metadata": {
    "collapsed": false
   },
   "outputs": [
    {
     "name": "stdout",
     "output_type": "stream",
     "text": [
      "159\r\n"
     ]
    }
   ],
   "source": [
    "cat /home/romanell/myfiles/aph_testset_selection.csv | grep True | wc -l"
   ]
  },
  {
   "cell_type": "code",
   "execution_count": 189,
   "metadata": {
    "collapsed": false
   },
   "outputs": [],
   "source": [
    "for doc_id in list(df[df.selected == True][\"filename\"]):\n",
    "    ann_file = \"%s%s%s\"%(anndir,doc_id,'-doc-1.ann')\n",
    "    txt_file = \"%s%s%s\"%(anndir,doc_id,'-doc-1.txt')\n",
    "    iob_file = \"%s%s\"%(iobdir,doc_id)\n",
    "    orig_file = \"%s%s\"%(txtdir,doc_id)\n",
    "    shutil.copy(ann_file,\"%s%s\"%(testdir,'ann/'))\n",
    "    shutil.copy(txt_file,\"%s%s\"%(testdir,'ann/'))\n",
    "    shutil.copy(iob_file,\"%s%s\"%(testdir,'iob/'))\n",
    "    shutil.copy(orig_file,\"%s%s\"%(testdir,'txt/'))"
   ]
  },
  {
   "cell_type": "code",
   "execution_count": null,
   "metadata": {
    "collapsed": true
   },
   "outputs": [],
   "source": []
  }
 ],
 "metadata": {
  "kernelspec": {
   "display_name": "Python 2",
   "language": "python",
   "name": "python2"
  },
  "language_info": {
   "codemirror_mode": {
    "name": "ipython",
    "version": 2
   },
   "file_extension": ".py",
   "mimetype": "text/x-python",
   "name": "python",
   "nbconvert_exporter": "python",
   "pygments_lexer": "ipython2",
   "version": "2.7.6"
  }
 },
 "nbformat": 4,
 "nbformat_minor": 0
}
